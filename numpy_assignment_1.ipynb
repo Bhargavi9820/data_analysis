{
  "nbformat": 4,
  "nbformat_minor": 0,
  "metadata": {
    "colab": {
      "provenance": []
    },
    "kernelspec": {
      "name": "python3",
      "display_name": "Python 3"
    },
    "language_info": {
      "name": "python"
    }
  },
  "cells": [
    {
      "cell_type": "code",
      "execution_count": null,
      "metadata": {
        "id": "RMHyldAabP1Q"
      },
      "outputs": [],
      "source": [
        "##1)Write a program to create a 5 dimensional array with all zeros and ones"
      ]
    },
    {
      "cell_type": "code",
      "source": [
        "import numpy as np\n",
        "zeros_array=np.zeros((1,1,1,5,4))\n",
        "ones_array=np.ones((1,1,1,5,4))\n",
        "\n",
        "print(\"Zeros Array:\")\n",
        "print(zeros_array)\n",
        "\n",
        "\n",
        "print(\"Ones Array:\")\n",
        "print(ones_array)"
      ],
      "metadata": {
        "colab": {
          "base_uri": "https://localhost:8080/"
        },
        "id": "oaQE7Stubb-Q",
        "outputId": "143727f2-275c-464c-b258-15f2f2db37d5"
      },
      "execution_count": 1,
      "outputs": [
        {
          "output_type": "stream",
          "name": "stdout",
          "text": [
            "Zeros Array:\n",
            "[[[[[0. 0. 0. 0.]\n",
            "    [0. 0. 0. 0.]\n",
            "    [0. 0. 0. 0.]\n",
            "    [0. 0. 0. 0.]\n",
            "    [0. 0. 0. 0.]]]]]\n",
            "Ones Array:\n",
            "[[[[[1. 1. 1. 1.]\n",
            "    [1. 1. 1. 1.]\n",
            "    [1. 1. 1. 1.]\n",
            "    [1. 1. 1. 1.]\n",
            "    [1. 1. 1. 1.]]]]]\n"
          ]
        }
      ]
    },
    {
      "cell_type": "code",
      "source": [
        "##2)Write a program to create an array of 10 zeros,10 ones, and 10 fives in row 1 2 and 3 which create a new array of shape (3,10)\n"
      ],
      "metadata": {
        "id": "fcc5c05VblJV"
      },
      "execution_count": null,
      "outputs": []
    },
    {
      "cell_type": "code",
      "source": [
        "import numpy as np\n",
        "zeros=np.zeros(10)\n",
        "ones=np.ones(10)\n",
        "fives=np.full(np.shape((3,10)),5)\n",
        "array = np.concatenate((np.zeros(10), np.ones(10), np.full(10, 5)))\n",
        "print(array)\n"
      ],
      "metadata": {
        "colab": {
          "base_uri": "https://localhost:8080/"
        },
        "id": "e3Vw_0Iqbrok",
        "outputId": "36ec8d10-f67c-4ca6-c589-ca6936372a6d"
      },
      "execution_count": null,
      "outputs": [
        {
          "output_type": "stream",
          "name": "stdout",
          "text": [
            "[0. 0. 0. 0. 0. 0. 0. 0. 0. 0. 1. 1. 1. 1. 1. 1. 1. 1. 1. 1. 5. 5. 5. 5.\n",
            " 5. 5. 5. 5. 5. 5.]\n"
          ]
        }
      ]
    },
    {
      "cell_type": "code",
      "source": [
        "# 3)Write a program to create a 3x4 matrix filled with values from 10 to 21.\n"
      ],
      "metadata": {
        "id": "cuTf3kzsb5Gk"
      },
      "execution_count": null,
      "outputs": []
    },
    {
      "cell_type": "code",
      "source": [
        "import numpy as np\n",
        "np.arange(10,22).reshape(3,4)\n"
      ],
      "metadata": {
        "colab": {
          "base_uri": "https://localhost:8080/"
        },
        "id": "I417meo_q1rJ",
        "outputId": "0792e447-3ac6-4119-db04-58c84562edf0"
      },
      "execution_count": 2,
      "outputs": [
        {
          "output_type": "execute_result",
          "data": {
            "text/plain": [
              "array([[10, 11, 12, 13],\n",
              "       [14, 15, 16, 17],\n",
              "       [18, 19, 20, 21]])"
            ]
          },
          "metadata": {},
          "execution_count": 2
        }
      ]
    },
    {
      "cell_type": "code",
      "source": [
        "# 4) Write a  program to create a 10x10 zero matrix with elements on the main diagonal equal to 0,1,2,3,4,5,6,7,8,9,\n"
      ],
      "metadata": {
        "id": "aWBqXYAWroIy"
      },
      "execution_count": null,
      "outputs": []
    },
    {
      "cell_type": "code",
      "source": [
        "import numpy as np\n",
        "matrix=np.zeros((10,10))\n",
        "np.fill_diagonal(matrix,np.arange(10))\n",
        "print(matrix)"
      ],
      "metadata": {
        "colab": {
          "base_uri": "https://localhost:8080/"
        },
        "id": "zKbQjwNpsAvf",
        "outputId": "6fb00fdb-8c33-4be8-cd68-215f0b6466bc"
      },
      "execution_count": null,
      "outputs": [
        {
          "output_type": "stream",
          "name": "stdout",
          "text": [
            "[[0. 0. 0. 0. 0. 0. 0. 0. 0. 0.]\n",
            " [0. 1. 0. 0. 0. 0. 0. 0. 0. 0.]\n",
            " [0. 0. 2. 0. 0. 0. 0. 0. 0. 0.]\n",
            " [0. 0. 0. 3. 0. 0. 0. 0. 0. 0.]\n",
            " [0. 0. 0. 0. 4. 0. 0. 0. 0. 0.]\n",
            " [0. 0. 0. 0. 0. 5. 0. 0. 0. 0.]\n",
            " [0. 0. 0. 0. 0. 0. 6. 0. 0. 0.]\n",
            " [0. 0. 0. 0. 0. 0. 0. 7. 0. 0.]\n",
            " [0. 0. 0. 0. 0. 0. 0. 0. 8. 0.]\n",
            " [0. 0. 0. 0. 0. 0. 0. 0. 0. 9.]]\n"
          ]
        }
      ]
    },
    {
      "cell_type": "code",
      "source": [
        "# 5)Write a program to create a 4x4 array. Create an array from below array by swapping first and last, second and third columns.\n"
      ],
      "metadata": {
        "id": "JOlSgbSIuQ_o"
      },
      "execution_count": null,
      "outputs": []
    },
    {
      "cell_type": "code",
      "source": [
        "x=np.arange(1,17).reshape(4,4)\n",
        "y=x[:,::-1]\n",
        "print(x)\n",
        "print()\n",
        "print(y)"
      ],
      "metadata": {
        "colab": {
          "base_uri": "https://localhost:8080/"
        },
        "id": "em5d0wwzu7Y4",
        "outputId": "853e2cf9-6532-4589-a31d-48b5cdc4545a"
      },
      "execution_count": 5,
      "outputs": [
        {
          "output_type": "stream",
          "name": "stdout",
          "text": [
            "[[ 1  2  3  4]\n",
            " [ 5  6  7  8]\n",
            " [ 9 10 11 12]\n",
            " [13 14 15 16]]\n",
            "\n",
            "[[ 4  3  2  1]\n",
            " [ 8  7  6  5]\n",
            " [12 11 10  9]\n",
            " [16 15 14 13]]\n"
          ]
        }
      ]
    },
    {
      "cell_type": "code",
      "source": [
        "# 6)Write a program to reverse an array (the first element becomes the last).Given array:\n",
        "#[12 13 14 15 16 17 18 19 20 21 22 23 24 25 26 27 ]\n"
      ],
      "metadata": {
        "id": "Cdsama_Cwyg4"
      },
      "execution_count": null,
      "outputs": []
    },
    {
      "cell_type": "code",
      "source": [
        "from numpy.lib import arraypad\n",
        "array =  [12 ,13 ,14 ,15 ,16 ,17 ,18, 19 ,20 ,21, 22 ,23, 24 ,25 ,26 ,27 ]\n",
        "reversed_array = array[::-1]\n",
        "print(reversed_array)"
      ],
      "metadata": {
        "colab": {
          "base_uri": "https://localhost:8080/"
        },
        "id": "byixvdDcxFxd",
        "outputId": "f55b3838-e318-4de8-9061-929f6e372a9f"
      },
      "execution_count": null,
      "outputs": [
        {
          "output_type": "stream",
          "name": "stdout",
          "text": [
            "[27, 26, 25, 24, 23, 22, 21, 20, 19, 18, 17, 16, 15, 14, 13, 12]\n"
          ]
        }
      ]
    },
    {
      "cell_type": "code",
      "source": [
        " # 7 )Write a program to access all the elements greater than 30 and less than 80 and multiples of 5 from an array of shape 10,10 .Elements range from 1 to 100\n",
        "\n"
      ],
      "metadata": {
        "id": "fFzzMh1tyAii"
      },
      "execution_count": null,
      "outputs": []
    },
    {
      "cell_type": "code",
      "source": [
        "array=np.arange(1,101).reshape(10,10)\n",
        "element_array= array[(array>30)& (array<80)& (array%5==0)]\n",
        "print(element_array)"
      ],
      "metadata": {
        "colab": {
          "base_uri": "https://localhost:8080/"
        },
        "id": "bM2addONzCih",
        "outputId": "a93f3e81-c0af-4aa5-bd0b-0f2a13e1c634"
      },
      "execution_count": null,
      "outputs": [
        {
          "output_type": "stream",
          "name": "stdout",
          "text": [
            "[35 40 45 50 55 60 65 70 75]\n"
          ]
        }
      ]
    },
    {
      "cell_type": "code",
      "source": [
        "# 8 )Write a program to create a 2D array with 1 on the border and 0 inside.\n"
      ],
      "metadata": {
        "id": "ynEFT74w0hJr"
      },
      "execution_count": null,
      "outputs": []
    },
    {
      "cell_type": "code",
      "source": [
        "x=np.ones((5,5))\n",
        "print(\"original array:\")\n",
        "print(x)\n",
        "print(\"1 on the border and 0 inside in the array\")\n",
        "x[1:-1,1:-1] = 0\n",
        "print(x)"
      ],
      "metadata": {
        "colab": {
          "base_uri": "https://localhost:8080/"
        },
        "id": "ssofl49U0tSi",
        "outputId": "5b734e47-809e-4ea7-d24c-1330e7b6c413"
      },
      "execution_count": null,
      "outputs": [
        {
          "output_type": "stream",
          "name": "stdout",
          "text": [
            "original array:\n",
            "[[1. 1. 1. 1. 1.]\n",
            " [1. 1. 1. 1. 1.]\n",
            " [1. 1. 1. 1. 1.]\n",
            " [1. 1. 1. 1. 1.]\n",
            " [1. 1. 1. 1. 1.]]\n",
            "1 on the border and 0 inside in the array\n",
            "[[1. 1. 1. 1. 1.]\n",
            " [1. 0. 0. 0. 1.]\n",
            " [1. 0. 0. 0. 1.]\n",
            " [1. 0. 0. 0. 1.]\n",
            " [1. 1. 1. 1. 1.]]\n"
          ]
        }
      ]
    },
    {
      "cell_type": "code",
      "source": [
        "# 9) Write a program to create a checkerboard pattern .Don't use default array function\n",
        "#Checkerboard pattern:\n",
        "#[[0 1 0 1 0 1 0 1]\n",
        "# [1 0 1 0 1 0 1 0]\n",
        " #[0 1 0 1 0 1 0 1]\n",
        " #[1 0 1 0 1 0 1 0]\n",
        " #[0 1 0 1 0 1 0 1]\n",
        " #[1 0 1 0 1 0 1 0]\n"
      ],
      "metadata": {
        "id": "mWm2Tjiz3Qe1"
      },
      "execution_count": null,
      "outputs": []
    },
    {
      "cell_type": "code",
      "source": [
        "l=[]\n",
        "for i in range(0,64):\n",
        "    a=i/8\n",
        "    if(a%2==0):\n",
        "        if(i%2==0):\n",
        "            l.append(1)\n",
        "        else:\n",
        "            l.append(0)\n",
        "    else:\n",
        "        if(i%2==0):\n",
        "            l.append(0)\n",
        "        else:\n",
        "            l.append(1)\n",
        "\n",
        "x=np.array(l).reshape(8,8)\n",
        "print(x)"
      ],
      "metadata": {
        "colab": {
          "base_uri": "https://localhost:8080/"
        },
        "id": "i8OdFWkP4RW3",
        "outputId": "7d343d74-ef9b-4a5a-e4c2-146464a4cf43"
      },
      "execution_count": 6,
      "outputs": [
        {
          "output_type": "stream",
          "name": "stdout",
          "text": [
            "[[1 1 0 1 0 1 0 1]\n",
            " [0 1 0 1 0 1 0 1]\n",
            " [1 1 0 1 0 1 0 1]\n",
            " [0 1 0 1 0 1 0 1]\n",
            " [1 1 0 1 0 1 0 1]\n",
            " [0 1 0 1 0 1 0 1]\n",
            " [1 1 0 1 0 1 0 1]\n",
            " [0 1 0 1 0 1 0 1]]\n"
          ]
        }
      ]
    },
    {
      "cell_type": "code",
      "source": [
        "# 10) Write a program to find common values between two arrays.\n",
        "#Expected Output:\n",
        "#array1: [10 20 40 60]\n",
        "#array2: [10, 30, 40,50]\n"
      ],
      "metadata": {
        "id": "iDKXR1Ft5jEE"
      },
      "execution_count": null,
      "outputs": []
    },
    {
      "cell_type": "code",
      "source": [
        "array1 = [10,20,40,60]\n",
        "array2 = [10,30,40,50]\n",
        "common_values=[]\n",
        "for num in array1:\n",
        "  if num in array2:\n",
        "      common_values.append(num)\n",
        "print(common_values)"
      ],
      "metadata": {
        "colab": {
          "base_uri": "https://localhost:8080/"
        },
        "id": "HPwFVWVb5x3p",
        "outputId": "d1310817-d176-4f09-eb82-4e86ff4132f1"
      },
      "execution_count": null,
      "outputs": [
        {
          "output_type": "stream",
          "name": "stdout",
          "text": [
            "[10, 40]\n"
          ]
        }
      ]
    },
    {
      "cell_type": "code",
      "source": [
        "# 11Write a program to create an array 2d array and then reshape into 1d array\n",
        "\n"
      ],
      "metadata": {
        "id": "WLrLJ9E68CVI"
      },
      "execution_count": null,
      "outputs": []
    },
    {
      "cell_type": "code",
      "source": [
        "two_dim_array=np.array([[1,2,3,4],[5,6,7,8],[14,15,16,17]])\n",
        "one_dim_array=two_dim_array.flatten()\n",
        "print(\"original 2D array:\")\n",
        "\n",
        "print(two_dim_array)\n",
        "\n",
        "print(\"\\nReshaped 1D array:\")\n",
        "print(one_dim_array)\n"
      ],
      "metadata": {
        "colab": {
          "base_uri": "https://localhost:8080/"
        },
        "id": "VbCtDP518UOu",
        "outputId": "d0942b7c-73e1-4f49-8bcf-e8061b94641b"
      },
      "execution_count": null,
      "outputs": [
        {
          "output_type": "stream",
          "name": "stdout",
          "text": [
            "original 2D array:\n",
            "[[ 1  2  3  4]\n",
            " [ 5  6  7  8]\n",
            " [14 15 16 17]]\n",
            "\n",
            "Reshaped 1D array:\n",
            "[ 1  2  3  4  5  6  7  8 14 15 16 17]\n"
          ]
        }
      ]
    },
    {
      "cell_type": "code",
      "source": [
        "#12 Write a user defined function for creating a 1 or 2d array from scratch without using array functions\n"
      ],
      "metadata": {
        "id": "V4WtQMed_wW1"
      },
      "execution_count": null,
      "outputs": []
    },
    {
      "cell_type": "code",
      "source": [
        "def ndarray(x):\n",
        "    n=int(input(\"enter the dimension: \"))\n",
        "    if type(x)==list or type(x)==tuple:\n",
        "        c=len(x)\n",
        "    if n==1:\n",
        "        print(\"array({})\".format(x))\n",
        "    elif(n==0):\n",
        "        m=int(l[0])\n",
        "        print(\"array({})\".format(m))\n",
        "    elif (n==2):\n",
        "\n",
        "        if(len(x[0])>1):\n",
        "            print(\"array([\",end=\"\")\n",
        "            for i in range(c):\n",
        "                print(\"[{}]\".format(x[i]))\n",
        "            print(\"])\")\n",
        "        else:\n",
        "            new=[]\n",
        "            for i in x:\n",
        "                if (i.isdigit()):\n",
        "                    z=int(i)\n",
        "                    new.append(z)\n",
        "            print(\"array([{}])\".format(new))\n",
        "    else:\n",
        "        pass\n",
        "l=[]\n",
        "n=int(input(\"enter the range: \"))\n",
        "for i in range(n):\n",
        "    num=input(\"enter the elements: \")\n",
        "    l.append(num)\n",
        "print(l)\n",
        "ndarray(l)\n",
        "\n"
      ],
      "metadata": {
        "id": "BNzzGi_KADeY",
        "outputId": "83c0b1ea-e876-4f70-d8c4-ae2bac9612a8",
        "colab": {
          "base_uri": "https://localhost:8080/"
        }
      },
      "execution_count": 13,
      "outputs": [
        {
          "output_type": "stream",
          "name": "stdout",
          "text": [
            "enter the range: 6\n",
            "enter the elements: 1\n",
            "enter the elements: 2\n",
            "enter the elements: 3\n",
            "enter the elements: 4\n",
            "enter the elements: 5\n",
            "enter the elements: 6\n",
            "['1', '2', '3', '4', '5', '6']\n",
            "enter the dimension: 2\n",
            "array([[1, 2, 3, 4, 5, 6]])\n"
          ]
        }
      ]
    }
  ]
}