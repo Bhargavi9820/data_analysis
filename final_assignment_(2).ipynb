{
  "cells": [
    {
      "cell_type": "code",
      "execution_count": null,
      "metadata": {
        "id": "9vJMTxWwCE03"
      },
      "outputs": [],
      "source": [
        "import numpy as np\n",
        "from google.colab import files\n",
        "import csv"
      ]
    },
    {
      "cell_type": "code",
      "execution_count": null,
      "metadata": {
        "colab": {
          "base_uri": "https://localhost:8080/",
          "height": 73
        },
        "id": "dmSDtyC2Va7x",
        "outputId": "096bc37c-60ef-460e-b082-9cdbbdde8f72"
      },
      "outputs": [
        {
          "data": {
            "text/html": [
              "\n",
              "     <input type=\"file\" id=\"files-82c6a7bd-c9e8-4e89-a332-c46803179ec7\" name=\"files[]\" multiple disabled\n",
              "        style=\"border:none\" />\n",
              "     <output id=\"result-82c6a7bd-c9e8-4e89-a332-c46803179ec7\">\n",
              "      Upload widget is only available when the cell has been executed in the\n",
              "      current browser session. Please rerun this cell to enable.\n",
              "      </output>\n",
              "      <script>// Copyright 2017 Google LLC\n",
              "//\n",
              "// Licensed under the Apache License, Version 2.0 (the \"License\");\n",
              "// you may not use this file except in compliance with the License.\n",
              "// You may obtain a copy of the License at\n",
              "//\n",
              "//      http://www.apache.org/licenses/LICENSE-2.0\n",
              "//\n",
              "// Unless required by applicable law or agreed to in writing, software\n",
              "// distributed under the License is distributed on an \"AS IS\" BASIS,\n",
              "// WITHOUT WARRANTIES OR CONDITIONS OF ANY KIND, either express or implied.\n",
              "// See the License for the specific language governing permissions and\n",
              "// limitations under the License.\n",
              "\n",
              "/**\n",
              " * @fileoverview Helpers for google.colab Python module.\n",
              " */\n",
              "(function(scope) {\n",
              "function span(text, styleAttributes = {}) {\n",
              "  const element = document.createElement('span');\n",
              "  element.textContent = text;\n",
              "  for (const key of Object.keys(styleAttributes)) {\n",
              "    element.style[key] = styleAttributes[key];\n",
              "  }\n",
              "  return element;\n",
              "}\n",
              "\n",
              "// Max number of bytes which will be uploaded at a time.\n",
              "const MAX_PAYLOAD_SIZE = 100 * 1024;\n",
              "\n",
              "function _uploadFiles(inputId, outputId) {\n",
              "  const steps = uploadFilesStep(inputId, outputId);\n",
              "  const outputElement = document.getElementById(outputId);\n",
              "  // Cache steps on the outputElement to make it available for the next call\n",
              "  // to uploadFilesContinue from Python.\n",
              "  outputElement.steps = steps;\n",
              "\n",
              "  return _uploadFilesContinue(outputId);\n",
              "}\n",
              "\n",
              "// This is roughly an async generator (not supported in the browser yet),\n",
              "// where there are multiple asynchronous steps and the Python side is going\n",
              "// to poll for completion of each step.\n",
              "// This uses a Promise to block the python side on completion of each step,\n",
              "// then passes the result of the previous step as the input to the next step.\n",
              "function _uploadFilesContinue(outputId) {\n",
              "  const outputElement = document.getElementById(outputId);\n",
              "  const steps = outputElement.steps;\n",
              "\n",
              "  const next = steps.next(outputElement.lastPromiseValue);\n",
              "  return Promise.resolve(next.value.promise).then((value) => {\n",
              "    // Cache the last promise value to make it available to the next\n",
              "    // step of the generator.\n",
              "    outputElement.lastPromiseValue = value;\n",
              "    return next.value.response;\n",
              "  });\n",
              "}\n",
              "\n",
              "/**\n",
              " * Generator function which is called between each async step of the upload\n",
              " * process.\n",
              " * @param {string} inputId Element ID of the input file picker element.\n",
              " * @param {string} outputId Element ID of the output display.\n",
              " * @return {!Iterable<!Object>} Iterable of next steps.\n",
              " */\n",
              "function* uploadFilesStep(inputId, outputId) {\n",
              "  const inputElement = document.getElementById(inputId);\n",
              "  inputElement.disabled = false;\n",
              "\n",
              "  const outputElement = document.getElementById(outputId);\n",
              "  outputElement.innerHTML = '';\n",
              "\n",
              "  const pickedPromise = new Promise((resolve) => {\n",
              "    inputElement.addEventListener('change', (e) => {\n",
              "      resolve(e.target.files);\n",
              "    });\n",
              "  });\n",
              "\n",
              "  const cancel = document.createElement('button');\n",
              "  inputElement.parentElement.appendChild(cancel);\n",
              "  cancel.textContent = 'Cancel upload';\n",
              "  const cancelPromise = new Promise((resolve) => {\n",
              "    cancel.onclick = () => {\n",
              "      resolve(null);\n",
              "    };\n",
              "  });\n",
              "\n",
              "  // Wait for the user to pick the files.\n",
              "  const files = yield {\n",
              "    promise: Promise.race([pickedPromise, cancelPromise]),\n",
              "    response: {\n",
              "      action: 'starting',\n",
              "    }\n",
              "  };\n",
              "\n",
              "  cancel.remove();\n",
              "\n",
              "  // Disable the input element since further picks are not allowed.\n",
              "  inputElement.disabled = true;\n",
              "\n",
              "  if (!files) {\n",
              "    return {\n",
              "      response: {\n",
              "        action: 'complete',\n",
              "      }\n",
              "    };\n",
              "  }\n",
              "\n",
              "  for (const file of files) {\n",
              "    const li = document.createElement('li');\n",
              "    li.append(span(file.name, {fontWeight: 'bold'}));\n",
              "    li.append(span(\n",
              "        `(${file.type || 'n/a'}) - ${file.size} bytes, ` +\n",
              "        `last modified: ${\n",
              "            file.lastModifiedDate ? file.lastModifiedDate.toLocaleDateString() :\n",
              "                                    'n/a'} - `));\n",
              "    const percent = span('0% done');\n",
              "    li.appendChild(percent);\n",
              "\n",
              "    outputElement.appendChild(li);\n",
              "\n",
              "    const fileDataPromise = new Promise((resolve) => {\n",
              "      const reader = new FileReader();\n",
              "      reader.onload = (e) => {\n",
              "        resolve(e.target.result);\n",
              "      };\n",
              "      reader.readAsArrayBuffer(file);\n",
              "    });\n",
              "    // Wait for the data to be ready.\n",
              "    let fileData = yield {\n",
              "      promise: fileDataPromise,\n",
              "      response: {\n",
              "        action: 'continue',\n",
              "      }\n",
              "    };\n",
              "\n",
              "    // Use a chunked sending to avoid message size limits. See b/62115660.\n",
              "    let position = 0;\n",
              "    do {\n",
              "      const length = Math.min(fileData.byteLength - position, MAX_PAYLOAD_SIZE);\n",
              "      const chunk = new Uint8Array(fileData, position, length);\n",
              "      position += length;\n",
              "\n",
              "      const base64 = btoa(String.fromCharCode.apply(null, chunk));\n",
              "      yield {\n",
              "        response: {\n",
              "          action: 'append',\n",
              "          file: file.name,\n",
              "          data: base64,\n",
              "        },\n",
              "      };\n",
              "\n",
              "      let percentDone = fileData.byteLength === 0 ?\n",
              "          100 :\n",
              "          Math.round((position / fileData.byteLength) * 100);\n",
              "      percent.textContent = `${percentDone}% done`;\n",
              "\n",
              "    } while (position < fileData.byteLength);\n",
              "  }\n",
              "\n",
              "  // All done.\n",
              "  yield {\n",
              "    response: {\n",
              "      action: 'complete',\n",
              "    }\n",
              "  };\n",
              "}\n",
              "\n",
              "scope.google = scope.google || {};\n",
              "scope.google.colab = scope.google.colab || {};\n",
              "scope.google.colab._files = {\n",
              "  _uploadFiles,\n",
              "  _uploadFilesContinue,\n",
              "};\n",
              "})(self);\n",
              "</script> "
            ],
            "text/plain": [
              "<IPython.core.display.HTML object>"
            ]
          },
          "metadata": {},
          "output_type": "display_data"
        },
        {
          "name": "stdout",
          "output_type": "stream",
          "text": [
            "Saving train_extended.csv to train_extended.csv\n"
          ]
        }
      ],
      "source": [
        "w=data=files.upload()"
      ]
    },
    {
      "cell_type": "code",
      "execution_count": 18,
      "metadata": {
        "colab": {
          "base_uri": "https://localhost:8080/"
        },
        "id": "eV_yYsR-ZicQ",
        "outputId": "8b67e27d-d0a6-4e94-d0de-489189115ba3"
      },
      "outputs": [
        {
          "output_type": "stream",
          "name": "stdout",
          "text": [
            "[[ 1.575       1.225       0.375      ...  6.3219385   9.63883\n",
            "  10.        ]\n",
            " [ 1.2375      1.          0.375      ...  3.798833    7.654365\n",
            "  19.        ]\n",
            " [ 1.45        1.1625      0.4125     ...  7.01650125  7.257472\n",
            "  11.        ]\n",
            " ...\n",
            " [ 1.125       0.9125      0.2875     ...  1.984465    3.118445\n",
            "   7.        ]\n",
            " [ 1.625       1.275       0.4125     ...  7.86698625 10.489315\n",
            "  11.        ]\n",
            " [ 1.5875      1.25        0.3875     ...  7.38504475  8.788345\n",
            "  11.        ]]\n"
          ]
        }
      ],
      "source": [
        "w=data=np.genfromtxt(\"train_extended.csv\",delimiter=',',skip_header=1)\n",
        "print(data)\n"
      ]
    },
    {
      "cell_type": "code",
      "source": [
        "#1 find out the differece between max and min length? dataset csv file using numpy"
      ],
      "metadata": {
        "id": "Xjny-X8RbIRZ"
      },
      "execution_count": null,
      "outputs": []
    },
    {
      "cell_type": "code",
      "source": [
        "\n",
        "row_lengths = np.vectorize(len)(w)\n",
        "\n",
        "# Find the maximum and minimum lengths\n",
        "max_length = np.max(row_lengths)\n",
        "min_length = np.min(row_lengths)\n",
        "\n",
        "# Calculate the difference\n",
        "difference = max_length - min_length\n",
        "\n",
        "print(f\"Maximum length: {max_length}\")\n",
        "print(f\"Minimum length: {min_length}\")\n",
        "print(f\"Difference: {difference}\")\n"
      ],
      "metadata": {
        "colab": {
          "base_uri": "https://localhost:8080/"
        },
        "id": "QA3chGQwbi4R",
        "outputId": "94f0351e-a43f-4303-89e7-e37f4d5c5bdc"
      },
      "execution_count": 84,
      "outputs": [
        {
          "output_type": "stream",
          "name": "stdout",
          "text": [
            "Maximum length: 14\n",
            "Minimum length: 1\n",
            "Difference: 13\n"
          ]
        }
      ]
    },
    {
      "cell_type": "code",
      "source": [],
      "metadata": {
        "id": "x2xVAB_UbkfJ"
      },
      "execution_count": null,
      "outputs": []
    },
    {
      "cell_type": "code",
      "source": [
        "#2 Find out the difference between max & min length?"
      ],
      "metadata": {
        "id": "wJwFZF5LbjXQ"
      },
      "execution_count": null,
      "outputs": []
    },
    {
      "cell_type": "code",
      "source": [
        "w=np.genfromtxt('train_extended.csv',delimiter=',',dtype=str)\n",
        "lengths=np.char.str_len(w)\n",
        "difference=np.max(lengths)-np.min(lengths)\n",
        "print(difference)\n"
      ],
      "metadata": {
        "colab": {
          "base_uri": "https://localhost:8080/"
        },
        "id": "JmIiHXRhbqLX",
        "outputId": "1a072449-5b7e-45e4-c354-bc8b0f6c13ad"
      },
      "execution_count": 22,
      "outputs": [
        {
          "output_type": "stream",
          "name": "stdout",
          "text": [
            "13\n"
          ]
        }
      ]
    },
    {
      "cell_type": "code",
      "source": [
        "#3 find columnwise average"
      ],
      "metadata": {
        "id": "VBydVRZbcNfN"
      },
      "execution_count": null,
      "outputs": []
    },
    {
      "cell_type": "code",
      "source": [
        "column_avg=np.nanmean(data,axis=0)\n",
        "print(column_avg)"
      ],
      "metadata": {
        "colab": {
          "base_uri": "https://localhost:8080/"
        },
        "id": "6rABqL90cUTo",
        "outputId": "c948f92d-4269-45a4-cfcb-3144565885d9"
      },
      "execution_count": 23,
      "outputs": [
        {
          "output_type": "stream",
          "name": "stdout",
          "text": [
            "[ 1.31244808  1.02032036  0.34602787 23.12343631  9.98937025  4.99318096\n",
            "  6.63422915  9.950615  ]\n"
          ]
        }
      ]
    },
    {
      "cell_type": "code",
      "source": [
        "#4 find out all the average height is >0.4?"
      ],
      "metadata": {
        "id": "oyCEOt69cZeV"
      },
      "execution_count": null,
      "outputs": []
    },
    {
      "cell_type": "code",
      "source": [
        "column_avg=np.nanmean(data,axis=0)\n",
        "avg_height_gt_0_4=column_avg[column_avg>0.4]\n",
        "print(avg_height_gt_0_4)"
      ],
      "metadata": {
        "colab": {
          "base_uri": "https://localhost:8080/"
        },
        "id": "XYnKRt-mcefJ",
        "outputId": "9c030db0-ea18-48c3-c1f4-f568725a3780"
      },
      "execution_count": 24,
      "outputs": [
        {
          "output_type": "stream",
          "name": "stdout",
          "text": [
            "[ 1.31244808  1.02032036 23.12343631  9.98937025  4.99318096  6.63422915\n",
            "  9.950615  ]\n"
          ]
        }
      ]
    },
    {
      "cell_type": "code",
      "source": [
        "#5 what is the average height and weight of the person who age is 10"
      ],
      "metadata": {
        "id": "e6f6QQwQcmv9"
      },
      "execution_count": 28,
      "outputs": []
    },
    {
      "cell_type": "code",
      "source": [
        "\n",
        "age_10 = data[data[:, 0] == 10]\n",
        "# calculate the average height and weight\n",
        "avg_height = np.mean(age_10[:, 1])\n",
        "avg_weight = np.mean(age_10[:, 2])\n",
        "\n",
        "# print the results\n",
        "print(f\"Average height of 10-year-olds: {avg_height} cm\")\n",
        "print(f\"Average weight of 10-year-olds: {avg_weight} kg\")\n",
        "\n",
        "\n",
        "\n",
        "\n"
      ],
      "metadata": {
        "colab": {
          "base_uri": "https://localhost:8080/"
        },
        "id": "Vb_ywv84crTn",
        "outputId": "aa3e192c-44ab-4033-a580-2ca88f88a94f"
      },
      "execution_count": 48,
      "outputs": [
        {
          "output_type": "stream",
          "name": "stdout",
          "text": [
            "Average height of 10-year-olds: nan cm\n",
            "Average weight of 10-year-olds: nan kg\n"
          ]
        },
        {
          "output_type": "stream",
          "name": "stderr",
          "text": [
            "/usr/local/lib/python3.10/dist-packages/numpy/core/fromnumeric.py:3432: RuntimeWarning: Mean of empty slice.\n",
            "  return _methods._mean(a, axis=axis, dtype=dtype,\n",
            "/usr/local/lib/python3.10/dist-packages/numpy/core/_methods.py:190: RuntimeWarning: invalid value encountered in double_scalars\n",
            "  ret = ret.dtype.type(ret / rcount)\n"
          ]
        }
      ]
    },
    {
      "cell_type": "code",
      "source": [
        "#6 what is the total shell weight?"
      ],
      "metadata": {
        "id": "f2jr4GD5gH_M"
      },
      "execution_count": null,
      "outputs": []
    },
    {
      "cell_type": "code",
      "source": [
        "shell_weight=w[:,6]\n",
        "print(\"Shell weight\",shell_weight)"
      ],
      "metadata": {
        "colab": {
          "base_uri": "https://localhost:8080/"
        },
        "id": "vUv17g9_gSi6",
        "outputId": "5ca6cf6d-3fd0-4b00-a4ab-be4f40e557a8"
      },
      "execution_count": 49,
      "outputs": [
        {
          "output_type": "stream",
          "name": "stdout",
          "text": [
            "Shell weight ['Shell Weight' '9.63883' '7.654365' ... '3.118445' '10.489315' '8.788345']\n"
          ]
        }
      ]
    },
    {
      "cell_type": "code",
      "source": [
        "#7 how many person belongs to each and every unique age"
      ],
      "metadata": {
        "id": "vvKtC6DMkm8J"
      },
      "execution_count": null,
      "outputs": []
    },
    {
      "cell_type": "code",
      "source": [
        "column_age=w[:,7]\n",
        "unique_age,counts=np.unique(column_age,return_counts=True)\n",
        "for age,count in zip(unique_age,counts):\n",
        "  print(f\"Age:{age},Count:{count}\")"
      ],
      "metadata": {
        "colab": {
          "base_uri": "https://localhost:8080/"
        },
        "id": "BGaKAOOJkyyc",
        "outputId": "bd708bf8-33f1-45ab-c820-5571a666c3ba"
      },
      "execution_count": 62,
      "outputs": [
        {
          "output_type": "stream",
          "name": "stdout",
          "text": [
            "Age:1,Count:46\n",
            "Age:10,Count:30803\n",
            "Age:11,Count:23457\n",
            "Age:12,Count:12717\n",
            "Age:13,Count:10037\n",
            "Age:14,Count:6352\n",
            "Age:15,Count:4831\n",
            "Age:16,Count:3191\n",
            "Age:17,Count:2705\n",
            "Age:18,Count:1953\n",
            "Age:19,Count:1591\n",
            "Age:2,Count:42\n",
            "Age:20,Count:1206\n",
            "Age:21,Count:721\n",
            "Age:22,Count:296\n",
            "Age:23,Count:352\n",
            "Age:24,Count:110\n",
            "Age:25,Count:51\n",
            "Age:26,Count:46\n",
            "Age:27,Count:99\n",
            "Age:29,Count:57\n",
            "Age:3,Count:625\n",
            "Age:4,Count:2787\n",
            "Age:5,Count:5475\n",
            "Age:6,Count:12450\n",
            "Age:7,Count:18276\n",
            "Age:8,Count:26818\n",
            "Age:9,Count:32906\n",
            "Age:Age,Count:1\n"
          ]
        }
      ]
    },
    {
      "cell_type": "code",
      "source": [
        "#8 what is the difference between shucked weight and viscera weight"
      ],
      "metadata": {
        "id": "TyobGOczmpDx"
      },
      "execution_count": null,
      "outputs": []
    },
    {
      "cell_type": "code",
      "source": [
        "shucked_weight=w[:,4]\n",
        "viscera_weight=w[:,5]\n",
        "print(\"Difference between shucked weight and viscera weight:\",difference)"
      ],
      "metadata": {
        "colab": {
          "base_uri": "https://localhost:8080/"
        },
        "id": "Z20Ld1vnnFzl",
        "outputId": "01fb3b71-d514-405e-ccf4-3c8fb56df087"
      },
      "execution_count": 64,
      "outputs": [
        {
          "output_type": "stream",
          "name": "stdout",
          "text": [
            "Difference between shucked weight and viscera weight: 13\n"
          ]
        }
      ]
    },
    {
      "cell_type": "code",
      "source": [
        "#9what is the average height of the person whose age is between 14 & 19"
      ],
      "metadata": {
        "id": "sxQIRbVohbDw"
      },
      "execution_count": null,
      "outputs": []
    },
    {
      "cell_type": "code",
      "source": [
        "average_height=w[:,2]\n",
        "print(\"Average  height of people aged 14 to 19:\",average_height)\n",
        "\n",
        "\n"
      ],
      "metadata": {
        "colab": {
          "base_uri": "https://localhost:8080/"
        },
        "id": "77JS_Tx6htgE",
        "outputId": "563e8a5c-4e36-451e-c391-4ad938d431b3"
      },
      "execution_count": 70,
      "outputs": [
        {
          "output_type": "stream",
          "name": "stdout",
          "text": [
            "Average  height of people aged 14 to 19: ['Height' '0.375' '0.375' ... '0.2875' '0.4125' '0.3875']\n"
          ]
        }
      ]
    },
    {
      "cell_type": "code",
      "source": [
        "#10 what is the average weight if we included shucked weight,viscera weight & shell weight?"
      ],
      "metadata": {
        "id": "5CqTdragkb1A"
      },
      "execution_count": null,
      "outputs": []
    },
    {
      "cell_type": "code",
      "source": [
        "shucked_weight=w[:,4]\n",
        "viscera_weight=w[:,5]\n",
        "shell_weight=w[:,6]\n",
        "average_weight=(average_weight)\n",
        "print(\"The average weight,including shucked weight,viscera weight,and shell weight,is:\",average_weight)"
      ],
      "metadata": {
        "colab": {
          "base_uri": "https://localhost:8080/"
        },
        "id": "DfXPuGv2hnla",
        "outputId": "345f8a4b-5e33-47cf-e918-0fe8da839bde"
      },
      "execution_count": 96,
      "outputs": [
        {
          "output_type": "stream",
          "name": "stdout",
          "text": [
            "The average weight,including shucked weight,viscera weight,and shell weight,is: nan\n"
          ]
        }
      ]
    },
    {
      "cell_type": "code",
      "source": [],
      "metadata": {
        "id": "qWhPDeD3c-ir"
      },
      "execution_count": null,
      "outputs": []
    },
    {
      "cell_type": "code",
      "source": [],
      "metadata": {
        "id": "uIjHYIDkc0m0"
      },
      "execution_count": null,
      "outputs": []
    }
  ],
  "metadata": {
    "colab": {
      "provenance": []
    },
    "kernelspec": {
      "display_name": "Python 3",
      "name": "python3"
    },
    "language_info": {
      "name": "python"
    }
  },
  "nbformat": 4,
  "nbformat_minor": 0
}